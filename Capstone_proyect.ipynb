{
 "cells": [
  {
   "cell_type": "code",
   "execution_count": 8,
   "metadata": {},
   "outputs": [],
   "source": [
"# In this this folder will be placed the capstone project of the IBM Data Science certification\n",
 ]
  },
  
{
 "cells": [
  {
   "cell_type": "code",
   "execution_count": 8,
   "metadata": {},
   "outputs": [],
   "source": [
"# Libraries\n",
"import pandas as pd\n",
"import numpy as np\n",
 ]
  },
  
{
 "cells": [
  {
   "cell_type": "code",
   "execution_count": 8,
   "metadata": {},
   "outputs": [],
   "source": [
"# Welcome \n"
"print("Hello Capstone Project Course")\n"
   ]
  },   
